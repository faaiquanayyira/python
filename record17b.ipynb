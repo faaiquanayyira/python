{
 "cells": [
  {
   "cell_type": "code",
   "execution_count": 6,
   "id": "848070b0",
   "metadata": {},
   "outputs": [
    {
     "name": "stdout",
     "output_type": "stream",
     "text": [
      "Enter the Publisher name: nayyira\n",
      "Enter the Book title: python\n",
      "Enter the Author name: sinu\n",
      "Enter the Price: 150\n",
      "Enter the Number of pages: 110\n",
      " \n",
      "Publisher Name: nayyira\n",
      "Book Title: python\n",
      "Author: sinu\n",
      "Price: 150.0\n",
      "Number of pages: 110\n"
     ]
    }
   ],
   "source": [
    "class Publisher:\n",
    "    def __init__(self, name):\n",
    "        self.name = name\n",
    "\n",
    "    def display(self):\n",
    "        print(\"Publisher Name:\", self.name)\n",
    "\n",
    "\n",
    "class Book(Publisher):\n",
    "    def __init__(self, name, title, author):\n",
    "        super().__init__(name)\n",
    "        self.title = title\n",
    "        self.author = author\n",
    "\n",
    "    def display(self):\n",
    "        super().display()\n",
    "        print(\"Book Title:\", self.title)\n",
    "        print(\"Author:\", self.author)\n",
    "\n",
    "\n",
    "class Python(Book):\n",
    "    def __init__(self, name, title, author, price, no_of_pages):\n",
    "        super().__init__(name, title, author)\n",
    "        self.price = price\n",
    "        self.no_of_pages = no_of_pages\n",
    "\n",
    "    def display(self):\n",
    "        super().display()\n",
    "        print(\"Price:\", self.price)\n",
    "        print(\"Number of pages:\", self.no_of_pages)\n",
    "\n",
    "\n",
    "publisher_name = input(\"Enter the Publisher name: \")\n",
    "book_title = input(\"Enter the Book title: \")\n",
    "book_author = input(\"Enter the Author name: \")\n",
    "book_price = float(input(\"Enter the Price: \"))\n",
    "no_of_pages = int(input(\"Enter the Number of pages: \"))\n",
    "print(\" \")\n",
    "\n",
    "p = Python(publisher_name, book_title, book_author, book_price, no_of_pages)\n",
    "p.display()\n"
   ]
  },
  {
   "cell_type": "code",
   "execution_count": null,
   "id": "fd6b6f6c",
   "metadata": {},
   "outputs": [],
   "source": []
  }
 ],
 "metadata": {
  "kernelspec": {
   "display_name": "Python 3 (ipykernel)",
   "language": "python",
   "name": "python3"
  },
  "language_info": {
   "codemirror_mode": {
    "name": "ipython",
    "version": 3
   },
   "file_extension": ".py",
   "mimetype": "text/x-python",
   "name": "python",
   "nbconvert_exporter": "python",
   "pygments_lexer": "ipython3",
   "version": "3.11.5"
  }
 },
 "nbformat": 4,
 "nbformat_minor": 5
}
