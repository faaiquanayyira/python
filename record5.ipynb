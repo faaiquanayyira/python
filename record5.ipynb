{
 "cells": [
  {
   "cell_type": "code",
   "execution_count": 1,
   "id": "7a94de44",
   "metadata": {},
   "outputs": [
    {
     "name": "stdout",
     "output_type": "stream",
     "text": [
      "Enter colors:red blue yellow pink\n",
      "First color and last color: red pink\n"
     ]
    }
   ],
   "source": [
    "#list of colours from comma-separated color names entered by user. display first and last color\n",
    "\n",
    "text=input(\"Enter colors:\")\n",
    "colors=text.split()\n",
    "print(\"First color and last color:\",colors[0],colors[-1])"
   ]
  },
  {
   "cell_type": "code",
   "execution_count": 2,
   "id": "4674d3d2",
   "metadata": {},
   "outputs": [
    {
     "name": "stdout",
     "output_type": "stream",
     "text": [
      "Enter file name:faaiqua.txt\n",
      "extension of the file is: txt\n"
     ]
    }
   ],
   "source": [
    "#accept a file name from the user ,print ectension of that\n",
    "\n",
    "filename=input(\"Enter file name:\")\n",
    "extension=filename.split(\".\")[-1]\n",
    "print(\"extension of the file is:\",extension)"
   ]
  },
  {
   "cell_type": "code",
   "execution_count": 1,
   "id": "7f0c182f",
   "metadata": {},
   "outputs": [
    {
     "name": "stdout",
     "output_type": "stream",
     "text": [
      "Enter numbers separated with commas:1,3,7,2\n",
      "the list of the numbers: [1, 3, 7, 2]\n",
      "sum of the numbers: 13\n"
     ]
    }
   ],
   "source": [
    "#accepts a sequence of coma separeted numbers from user and generate a list with those numbers and find sum of all items in that list\n",
    "\n",
    "numbers= input(\"Enter numbers separated with commas:\")\n",
    "new = numbers.split(\",\")\n",
    "number_list=list(map(int,new))\n",
    "print(\"the list of the numbers:\",number_list)\n",
    "total=sum(number_list)\n",
    "print(\"sum of the numbers:\",total)"
   ]
  },
  {
   "cell_type": "code",
   "execution_count": null,
   "id": "0ed78567",
   "metadata": {},
   "outputs": [],
   "source": []
  }
 ],
 "metadata": {
  "kernelspec": {
   "display_name": "Python 3 (ipykernel)",
   "language": "python",
   "name": "python3"
  },
  "language_info": {
   "codemirror_mode": {
    "name": "ipython",
    "version": 3
   },
   "file_extension": ".py",
   "mimetype": "text/x-python",
   "name": "python",
   "nbconvert_exporter": "python",
   "pygments_lexer": "ipython3",
   "version": "3.11.5"
  }
 },
 "nbformat": 4,
 "nbformat_minor": 5
}
