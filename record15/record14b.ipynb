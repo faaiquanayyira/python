{
 "cells": [
  {
   "cell_type": "code",
   "execution_count": 8,
   "id": "92601101",
   "metadata": {},
   "outputs": [
    {
     "name": "stdout",
     "output_type": "stream",
     "text": [
      "1.Rectangle\n",
      " 2.Circle\n",
      " 3.Cuboid\n",
      " 4.Sphere\n",
      " 5.Exit\n",
      "\n",
      "Enter your choice:1\n",
      "Enter the length of the rectangle:2\n",
      "Enter the breadth of the rectangle:4\n"
     ]
    },
    {
     "ename": "NameError",
     "evalue": "name 'rectangle' is not defined",
     "output_type": "error",
     "traceback": [
      "\u001b[0;31m---------------------------------------------------------------------------\u001b[0m",
      "\u001b[0;31mNameError\u001b[0m                                 Traceback (most recent call last)",
      "Cell \u001b[0;32mIn[8], line 10\u001b[0m\n\u001b[1;32m      8\u001b[0m     l\u001b[38;5;241m=\u001b[39m\u001b[38;5;28mint\u001b[39m(\u001b[38;5;28minput\u001b[39m(\u001b[38;5;124m\"\u001b[39m\u001b[38;5;124mEnter the length of the rectangle:\u001b[39m\u001b[38;5;124m\"\u001b[39m))\n\u001b[1;32m      9\u001b[0m     b\u001b[38;5;241m=\u001b[39m\u001b[38;5;28mint\u001b[39m(\u001b[38;5;28minput\u001b[39m(\u001b[38;5;124m\"\u001b[39m\u001b[38;5;124mEnter the breadth of the rectangle:\u001b[39m\u001b[38;5;124m\"\u001b[39m))\n\u001b[0;32m---> 10\u001b[0m     \u001b[38;5;28mprint\u001b[39m(\u001b[38;5;124m\"\u001b[39m\u001b[38;5;124mArea of rectangle:\u001b[39m\u001b[38;5;124m\"\u001b[39m,rectangle\u001b[38;5;241m.\u001b[39marea(l,b))\n\u001b[1;32m     11\u001b[0m     \u001b[38;5;28mprint\u001b[39m(\u001b[38;5;124m\"\u001b[39m\u001b[38;5;124mPerimeter of rectangle:\u001b[39m\u001b[38;5;124m\"\u001b[39m,rectangle\u001b[38;5;241m.\u001b[39mperi(l,b))\n\u001b[1;32m     13\u001b[0m \u001b[38;5;28;01melif\u001b[39;00m n\u001b[38;5;241m==\u001b[39m\u001b[38;5;241m2\u001b[39m:\n",
      "\u001b[0;31mNameError\u001b[0m: name 'rectangle' is not defined"
     ]
    }
   ],
   "source": [
    "from graphics import *\n",
    "from graphics.package2 import*\n",
    "\n",
    "while(1):\n",
    "    print(\"1.Rectangle\\n 2.Circle\\n 3.Cuboid\\n 4.Sphere\\n 5.Exit\\n\")\n",
    "    n=int(input(\"Enter your choice:\"))\n",
    "    if n==1:\n",
    "        l=int(input(\"Enter the length of the rectangle:\"))\n",
    "        b=int(input(\"Enter the breadth of the rectangle:\"))\n",
    "        print(\"Area of rectangle:\",rectangle.area(l,b))\n",
    "        print(\"Perimeter of rectangle:\",rectangle.peri(l,b))\n",
    "    \n",
    "    elif n==2:\n",
    "        r=int(input(\"Enter the radious of the circle:\"))\n",
    "        print(\"Area of the circle:\",round(circle.area(r),2))\n",
    "        print(\"Perimeter of the circle:\",round(cirlce.peri(r),2))\n",
    "    \n",
    "    elif n==3:\n",
    "        l=int(input(\"Enter the length of the cuboid:\"))\n",
    "        b=int(input(\"Enter the breadth of the cuboid:\"))\n",
    "        h=int(input(\"Enter the height of the cuboid:\"))\n",
    "        print(\"Area of cuboid:\",Cuboid.area(l,b,h))\n",
    "        print(\"Perimeter of cuboid:\",Cuboid.peri(l,b,h))\n",
    "        \n",
    "    elif n==4:\n",
    "        r=int(input(\"Enter the radious of the sphere:\"))\n",
    "        print(\"Area of the sphere:\",round(sphere.area(r),2))\n",
    "        print(\"Perimeter of the sphere:\",round(sphere.peri(r),2))\n",
    "        \n",
    "    else:\n",
    "        print(\"Exiting\")\n",
    "        break       "
   ]
  },
  {
   "cell_type": "code",
   "execution_count": null,
   "id": "fd2887fc",
   "metadata": {},
   "outputs": [],
   "source": []
  }
 ],
 "metadata": {
  "kernelspec": {
   "display_name": "Python 3 (ipykernel)",
   "language": "python",
   "name": "python3"
  },
  "language_info": {
   "codemirror_mode": {
    "name": "ipython",
    "version": 3
   },
   "file_extension": ".py",
   "mimetype": "text/x-python",
   "name": "python",
   "nbconvert_exporter": "python",
   "pygments_lexer": "ipython3",
   "version": "3.11.5"
  }
 },
 "nbformat": 4,
 "nbformat_minor": 5
}
