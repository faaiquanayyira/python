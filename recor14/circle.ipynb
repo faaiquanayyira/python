{
 "cells": [
  {
   "cell_type": "code",
   "execution_count": null,
   "id": "f9baa775",
   "metadata": {},
   "outputs": [],
   "source": [
    "def circlearea(r):\n",
    "    print(\"Area Of Circle:\",3.14*r*r)\n",
    "    \n",
    "def circleperi(r):\n",
    "    print(\"Perimeter Of Circle:\",2*3.14*r)"
   ]
  },
  {
   "cell_type": "code",
   "execution_count": 2,
   "id": "a5c42088",
   "metadata": {},
   "outputs": [
    {
     "name": "stdout",
     "output_type": "stream",
     "text": [
      "[NbConvertApp] Converting notebook circle.ipynb to python\n",
      "[NbConvertApp] Writing 269 bytes to circle.py\n"
     ]
    }
   ],
   "source": [
    "!jupyter nbconvert --to python circle.ipynb"
   ]
  },
  {
   "cell_type": "code",
   "execution_count": null,
   "id": "77e0a228",
   "metadata": {},
   "outputs": [],
   "source": []
  }
 ],
 "metadata": {
  "kernelspec": {
   "display_name": "Python 3 (ipykernel)",
   "language": "python",
   "name": "python3"
  },
  "language_info": {
   "codemirror_mode": {
    "name": "ipython",
    "version": 3
   },
   "file_extension": ".py",
   "mimetype": "text/x-python",
   "name": "python",
   "nbconvert_exporter": "python",
   "pygments_lexer": "ipython3",
   "version": "3.11.5"
  }
 },
 "nbformat": 4,
 "nbformat_minor": 5
}
