{
 "cells": [
  {
   "cell_type": "code",
   "execution_count": 1,
   "id": "fb402341",
   "metadata": {},
   "outputs": [
    {
     "name": "stdout",
     "output_type": "stream",
     "text": [
      "[NbConvertApp] Converting notebook circle.ipynb to python\n",
      "[NbConvertApp] Writing 269 bytes to circle.py\n",
      "[NbConvertApp] Converting notebook circle.ipynb to python\n",
      "[NbConvertApp] Writing 269 bytes to circle.py\n",
      "\n",
      "1.Rectangle\n",
      "2.Circle\n",
      "3.Exit\n",
      "Enter your choice:2\n",
      "\n",
      "Enter radius:2\n",
      "Area Of Circle: 12.56\n",
      "Perimeter Of Circle: 12.56\n",
      "\n",
      "1.Rectangle\n",
      "2.Circle\n",
      "3.Exit\n",
      "Enter your choice:1\n",
      "\n",
      "Enter length:3\n",
      "Enter breadth:2\n",
      "Area Of Rectangle: 6\n",
      "Perimeter Of Rectangle: 10\n",
      "\n",
      "1.Rectangle\n",
      "2.Circle\n",
      "3.Exit\n",
      "Enter your choice:3\n",
      "\n",
      "Exiting...\n"
     ]
    }
   ],
   "source": [
    "import circle\n",
    "import rectangle\n",
    "\n",
    "while(1):\n",
    "    print(\"\\n1.Rectangle\\n2.Circle\\n3.Exit\")\n",
    "    ch=int(input(\"Enter your choice:\"))\n",
    "    if ch==1:\n",
    "        l=int(input(\"\\nEnter length:\"))\n",
    "        b=int(input(\"Enter breadth:\"))\n",
    "        rectangle.rectarea(l,b)\n",
    "        rectangle.rectperi(l,b)\n",
    "    \n",
    "    elif ch==2:\n",
    "        r=int(input(\"\\nEnter radius:\"))\n",
    "        circle.circlearea(r)\n",
    "        circle.circleperi(r)\n",
    "        \n",
    "    else:\n",
    "        print(\"\\nExiting...\")\n",
    "        break"
   ]
  },
  {
   "cell_type": "code",
   "execution_count": null,
   "id": "434fb0f3",
   "metadata": {},
   "outputs": [],
   "source": []
  }
 ],
 "metadata": {
  "kernelspec": {
   "display_name": "Python 3 (ipykernel)",
   "language": "python",
   "name": "python3"
  },
  "language_info": {
   "codemirror_mode": {
    "name": "ipython",
    "version": 3
   },
   "file_extension": ".py",
   "mimetype": "text/x-python",
   "name": "python",
   "nbconvert_exporter": "python",
   "pygments_lexer": "ipython3",
   "version": "3.11.5"
  }
 },
 "nbformat": 4,
 "nbformat_minor": 5
}
