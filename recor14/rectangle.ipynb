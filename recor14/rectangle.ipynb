{
 "cells": [
  {
   "cell_type": "code",
   "execution_count": 3,
   "id": "9812de1e",
   "metadata": {},
   "outputs": [],
   "source": [
    "def rectarea(l,b):\n",
    "    print(\"Area Of Rectangle:\",l*b)\n",
    "    \n",
    "def rectperi(l,b):\n",
    "    print(\"Perimeter Of Rectangle:\",2*(l+b))"
   ]
  },
  {
   "cell_type": "code",
   "execution_count": 5,
   "id": "49628482",
   "metadata": {},
   "outputs": [
    {
     "name": "stdout",
     "output_type": "stream",
     "text": [
      "[NbConvertApp] Converting notebook rectangle.ipynb to python\n",
      "[NbConvertApp] Writing 269 bytes to rectangle.py\n"
     ]
    }
   ],
   "source": [
    "!jupyter nbconvert --to python rectangle.ipynb"
   ]
  },
  {
   "cell_type": "code",
   "execution_count": null,
   "id": "d092b79d",
   "metadata": {},
   "outputs": [],
   "source": []
  }
 ],
 "metadata": {
  "kernelspec": {
   "display_name": "Python 3 (ipykernel)",
   "language": "python",
   "name": "python3"
  },
  "language_info": {
   "codemirror_mode": {
    "name": "ipython",
    "version": 3
   },
   "file_extension": ".py",
   "mimetype": "text/x-python",
   "name": "python",
   "nbconvert_exporter": "python",
   "pygments_lexer": "ipython3",
   "version": "3.11.5"
  }
 },
 "nbformat": 4,
 "nbformat_minor": 5
}
