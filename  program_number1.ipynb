{
 "cells": [
  {
   "cell_type": "code",
   "execution_count": 6,
   "id": "d7360580",
   "metadata": {},
   "outputs": [
    {
     "name": "stdout",
     "output_type": "stream",
     "text": [
      "4.0\n"
     ]
    }
   ],
   "source": [
    "import math\n",
    "\n",
    "number=16\n",
    "result=math.sqrt(number)\n",
    "print(result)"
   ]
  },
  {
   "cell_type": "code",
   "execution_count": 7,
   "id": "6ab59015",
   "metadata": {},
   "outputs": [
    {
     "name": "stdout",
     "output_type": "stream",
     "text": [
      "5\n",
      "4\n"
     ]
    }
   ],
   "source": [
    "import math\n",
    "\n",
    "number=4.7\n",
    "print(math.ceil(number)) # ceil used for an incriment value\n",
    "print(math.floor(number)) # floor used for an decriment value"
   ]
  },
  {
   "cell_type": "code",
   "execution_count": 8,
   "id": "fc1f1fd9",
   "metadata": {},
   "outputs": [
    {
     "name": "stdout",
     "output_type": "stream",
     "text": [
      "Enter the length of the side of the square: 4\n",
      "The area of the square is: 16.0\n"
     ]
    }
   ],
   "source": [
    "# write a program to compute the area of a sqare\n",
    "\n",
    "side = float(input(\"Enter the length of the side of the square: \"))\n",
    "\n",
    "area = side * side\n",
    "\n",
    "print(\"The area of the square is:\", area)\n"
   ]
  },
  {
   "cell_type": "code",
   "execution_count": 13,
   "id": "f0526238",
   "metadata": {},
   "outputs": [
    {
     "name": "stdout",
     "output_type": "stream",
     "text": [
      "Enter the base of a triangle: 2\n",
      "Enter the height of a triangle: 4\n",
      "The area of the right-angled triangle is: 4.0\n"
     ]
    }
   ],
   "source": [
    "# write a program to compute the area of right-angled triangle\n",
    "\n",
    "\n",
    "base = float(input(\"Enter the base of a triangle: \"))\n",
    "height = float(input(\"Enter the height of a triangle: \"))\n",
    "\n",
    "area = 0.5 * base * height\n",
    "\n",
    "print(\"The area of the right-angled triangle is:\", area)\n"
   ]
  },
  {
   "cell_type": "code",
   "execution_count": 10,
   "id": "244c6662",
   "metadata": {},
   "outputs": [
    {
     "name": "stdout",
     "output_type": "stream",
     "text": [
      "Enter your name: faaiqua\n",
      "Hello, faaiqua!\n"
     ]
    }
   ],
   "source": [
    "# write a program that greets the user by printing the word \"Hello\",a comma, the name of the user and an exclamation mark after it(Hello, Harry!)\n",
    "\n",
    "name = input(\"Enter your name: \")\n",
    "\n",
    "print(\"Hello, \" + name + \"!\")\n"
   ]
  },
  {
   "cell_type": "code",
   "execution_count": 12,
   "id": "94f84413",
   "metadata": {},
   "outputs": [
    {
     "name": "stdout",
     "output_type": "stream",
     "text": [
      "Enter the number: 5\n",
      "Previous number: 4\n",
      "Next number: 6\n"
     ]
    }
   ],
   "source": [
    "#write a program that reads an integer number and prints its previous and next numbers\n",
    "\n",
    "x = int(input(\"Enter the number: \"))\n",
    "\n",
    "print(\"Previous number:\", x - 1)\n",
    "print(\"Next number:\", x + 1)"
   ]
  },
  {
   "cell_type": "code",
   "execution_count": 14,
   "id": "21fc6e46",
   "metadata": {},
   "outputs": [
    {
     "name": "stdout",
     "output_type": "stream",
     "text": [
      "Enter the principal amount: 100\n",
      "Enter the rate of interest (in % per year): 50\n",
      "Enter the time (in years): 360\n",
      "The simple interest is: 18000.0\n"
     ]
    }
   ],
   "source": [
    "#write a python program for computing simple interest\n",
    "\n",
    "principal = float(input(\"Enter the principal amount: \"))\n",
    "rate = float(input(\"Enter the rate of interest (in % per year): \"))\n",
    "time = float(input(\"Enter the time (in years): \"))\n",
    "\n",
    "simple_interest = (principal * rate * time) / 100\n",
    "\n",
    "print(\"The simple interest is:\", simple_interest)\n"
   ]
  },
  {
   "cell_type": "code",
   "execution_count": null,
   "id": "fec3c523",
   "metadata": {},
   "outputs": [],
   "source": []
  }
 ],
 "metadata": {
  "kernelspec": {
   "display_name": "Python 3 (ipykernel)",
   "language": "python",
   "name": "python3"
  },
  "language_info": {
   "codemirror_mode": {
    "name": "ipython",
    "version": 3
   },
   "file_extension": ".py",
   "mimetype": "text/x-python",
   "name": "python",
   "nbconvert_exporter": "python",
   "pygments_lexer": "ipython3",
   "version": "3.11.5"
  }
 },
 "nbformat": 4,
 "nbformat_minor": 5
}
