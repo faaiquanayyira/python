{
 "cells": [
  {
   "cell_type": "code",
   "execution_count": 3,
   "id": "8048d379",
   "metadata": {},
   "outputs": [
    {
     "name": "stdout",
     "output_type": "stream",
     "text": [
      "Enter length of Rectangle 1: 2\n",
      "Enter breadth of Rectangle 1: 4\n",
      "Enter length of Rectangle 2: 3\n",
      "Enter breadth of Rectangle 2: 6\n",
      "Area of rectangle 1 is: 8\n",
      "Area of rectangle 2 is: 18\n",
      "Perimeter of rectangle 1 is: 12\n",
      "Perimeter of rectangle 2 is: 18\n",
      "Rectangle 2 is greater\n"
     ]
    }
   ],
   "source": [
    "class Rectangle:\n",
    "    def get(self, l, b):\n",
    "        self.l = l\n",
    "        self.b = b\n",
    "        \n",
    "    def area(self):\n",
    "        return self.l * self.b\n",
    "    \n",
    "    def peri(self):\n",
    "        return 2 * (self.l + self.b)\n",
    "\n",
    "\n",
    "\n",
    "r1 = Rectangle()\n",
    "r2 = Rectangle()\n",
    "\n",
    "\n",
    "l1 = int(input(\"Enter length of Rectangle 1: \"))\n",
    "b1 = int(input(\"Enter breadth of Rectangle 1: \"))\n",
    "\n",
    "l2 = int(input(\"Enter length of Rectangle 2: \"))\n",
    "b2 = int(input(\"Enter breadth of Rectangle 2: \"))\n",
    "\n",
    "\n",
    "r1.get(l1, b1)\n",
    "r2.get(l2, b2)\n",
    "\n",
    "p = r1.area()\n",
    "q = r2.area()\n",
    "\n",
    "\n",
    "\n",
    "print(\"Area of rectangle 1 is:\",r1.area())\n",
    "print(\"Area of rectangle 2 is:\",r2.area())\n",
    "\n",
    "print(\"Perimeter of rectangle 1 is:\",r1.peri())\n",
    "print(\"Perimeter of rectangle 2 is:\",r2.peri())\n",
    "\n",
    "if p > q:\n",
    "    print(\"Rectangle 1 is greater\")\n",
    "elif p < q:\n",
    "    print(\"Rectangle 2 is greater\")\n",
    "else:\n",
    "    print(\"Rectangles are equal\")\n"
   ]
  },
  {
   "cell_type": "code",
   "execution_count": null,
   "id": "266a71bc",
   "metadata": {},
   "outputs": [],
   "source": []
  }
 ],
 "metadata": {
  "kernelspec": {
   "display_name": "Python 3 (ipykernel)",
   "language": "python",
   "name": "python3"
  },
  "language_info": {
   "codemirror_mode": {
    "name": "ipython",
    "version": 3
   },
   "file_extension": ".py",
   "mimetype": "text/x-python",
   "name": "python",
   "nbconvert_exporter": "python",
   "pygments_lexer": "ipython3",
   "version": "3.11.5"
  }
 },
 "nbformat": 4,
 "nbformat_minor": 5
}
