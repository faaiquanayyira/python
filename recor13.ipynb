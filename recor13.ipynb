{
 "cells": [
  {
   "cell_type": "code",
   "execution_count": 14,
   "id": "4a2f9777",
   "metadata": {},
   "outputs": [
    {
     "name": "stdout",
     "output_type": "stream",
     "text": [
      "Enter a list of words separated by commas: hello,hi\n",
      "The length of the word hello is: 5\n",
      "The length of the word hi is: 2\n",
      "The length of the longest word is: 5\n"
     ]
    }
   ],
   "source": [
    "#Accept a list of words and return length of longest word\n",
    "\n",
    "word = input(\"Enter a list of words separated by commas: \").split(\",\")\n",
    "words = [w.replace(\" \", \"\") for w in word]\n",
    "\n",
    "def lengths(words):\n",
    "    max_length = 0  \n",
    "    \n",
    "    for word in words:\n",
    "        length = len(word)\n",
    "        print(\"The length of the word\", word, \"is:\", length)\n",
    "        \n",
    "        if length > max_length:\n",
    "            max_length = length  \n",
    "            \n",
    "    print(\"The length of the longest word is:\", max_length)\n",
    "\n",
    "lengths(words)\n"
   ]
  },
  {
   "cell_type": "code",
   "execution_count": 28,
   "id": "3fc9bf0c",
   "metadata": {},
   "outputs": [
    {
     "name": "stdout",
     "output_type": "stream",
     "text": [
      "Enter the range of the number:5\n",
      "* \n",
      "* * \n",
      "* * * \n",
      "* * * * \n",
      "* * * * * \n",
      "* * * * \n",
      "* * * \n",
      "* * \n",
      "* \n"
     ]
    }
   ],
   "source": [
    "#construst following pattern using nested loop\n",
    "\n",
    "num=int(input(\"Enter the range of the number:\"))\n",
    "def star(num):\n",
    "    for i in range(1,num+1):\n",
    "        for j in range(i):\n",
    "            print(\"*\", end=\" \")\n",
    "        print()\n",
    "    for i in range(num-1,0,-1):\n",
    "        for j in range(i):\n",
    "             print(\"*\", end=\" \")\n",
    "        print()\n",
    "star(num)"
   ]
  },
  {
   "cell_type": "code",
   "execution_count": 21,
   "id": "86e7ffd8",
   "metadata": {},
   "outputs": [
    {
     "name": "stdout",
     "output_type": "stream",
     "text": [
      "Enter a number:4\n",
      "The factorial of the number 4  is: [1, 2, 4]\n"
     ]
    }
   ],
   "source": [
    "#generate all factors of a number\n",
    "\n",
    "num=int(input(\"Enter a number:\"))\n",
    "\n",
    "def factorial(num):\n",
    "    return[i for i in range(1,num+1) if num%i==0]\n",
    "\n",
    "print(\"The factorial of the number\",num, \" is:\",factorial(num))"
   ]
  },
  {
   "cell_type": "code",
   "execution_count": 26,
   "id": "b481f2a9",
   "metadata": {},
   "outputs": [
    {
     "name": "stdout",
     "output_type": "stream",
     "text": [
      "Enter the side value for finding area of square:2\n",
      "Area of the square is: 4.0\n",
      "Enter the length of the rectangle is:4\n",
      "Enter the breadth of the rectangle is:6\n",
      "Area of the rectangle is: 24.0\n",
      "Enter the base of the triangle is:2\n",
      "Enter the height of the triangle is:3\n",
      "Area of triangle is: 3.0\n"
     ]
    }
   ],
   "source": [
    "#write lambda functions to find area of square, rectangle and triangle\n",
    "\n",
    "x=float(input(\"Enter the side value for finding area of square:\"))\n",
    "square=lambda x:x**2\n",
    "print(\"Area of the square is:\",square(x))\n",
    "\n",
    "l=float(input(\"Enter the length of the rectangle is:\"))\n",
    "b=float(input(\"Enter the breadth of the rectangle is:\"))\n",
    "rectangle=lambda l,b:l*b\n",
    "print(\"Area of the rectangle is:\",rectangle(l,b))\n",
    "\n",
    "base=float(input(\"Enter the base of the triangle is:\"))\n",
    "height=float(input(\"Enter the height of the triangle is:\"))\n",
    "triangle=lambda base,height:0.5*base*height\n",
    "print(\"Area of triangle is:\",triangle(base,height))"
   ]
  },
  {
   "cell_type": "code",
   "execution_count": null,
   "id": "bc93a733",
   "metadata": {},
   "outputs": [],
   "source": []
  }
 ],
 "metadata": {
  "kernelspec": {
   "display_name": "Python 3 (ipykernel)",
   "language": "python",
   "name": "python3"
  },
  "language_info": {
   "codemirror_mode": {
    "name": "ipython",
    "version": 3
   },
   "file_extension": ".py",
   "mimetype": "text/x-python",
   "name": "python",
   "nbconvert_exporter": "python",
   "pygments_lexer": "ipython3",
   "version": "3.11.5"
  }
 },
 "nbformat": 4,
 "nbformat_minor": 5
}
