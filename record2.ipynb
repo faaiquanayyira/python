{
 "cells": [
  {
   "cell_type": "code",
   "execution_count": 8,
   "id": "28aecd2c",
   "metadata": {},
   "outputs": [
    {
     "name": "stdout",
     "output_type": "stream",
     "text": [
      "Enter temperature in Celsius: 5\n",
      "Temperature in Fahrenheit: 41.0\n"
     ]
    }
   ],
   "source": [
    "#python program to convert celsius to fahrenheit \n",
    "import math\n",
    "\n",
    "T=float(input(\"Enter temperature in Celsius: \"))\n",
    "\n",
    "F=round((T * 9/5) + 32,2)\n",
    "\n",
    "print(\"Temperature in Fahrenheit:\",F)"
   ]
  },
  {
   "cell_type": "code",
   "execution_count": 6,
   "id": "fd0952fc",
   "metadata": {},
   "outputs": [
    {
     "name": "stdout",
     "output_type": "stream",
     "text": [
      "Enter distance in kilometers:5\n",
      "Distance in miles: 3.11\n"
     ]
    }
   ],
   "source": [
    "#python program to convert kilometers to miles\n",
    "import math\n",
    "\n",
    "k=float(input(\"Enter distance in kilometers:\")) \n",
    "\n",
    "M= round(k* 0.6213,2)\n",
    "\n",
    "print(\"Distance in miles:\",M)"
   ]
  },
  {
   "cell_type": "code",
   "execution_count": null,
   "id": "a0c7c585",
   "metadata": {},
   "outputs": [],
   "source": []
  }
 ],
 "metadata": {
  "kernelspec": {
   "display_name": "Python 3 (ipykernel)",
   "language": "python",
   "name": "python3"
  },
  "language_info": {
   "codemirror_mode": {
    "name": "ipython",
    "version": 3
   },
   "file_extension": ".py",
   "mimetype": "text/x-python",
   "name": "python",
   "nbconvert_exporter": "python",
   "pygments_lexer": "ipython3",
   "version": "3.11.5"
  }
 },
 "nbformat": 4,
 "nbformat_minor": 5
}
