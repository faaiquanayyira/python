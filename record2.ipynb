
{
 "cells": [
  {
   "cell_type": "code",
   "execution_count": 11,
   "id": "8d2121fa",
   "metadata": {},
   "outputs": [
    {
     "name": "stdout",
     "output_type": "stream",
     "text": [
      "Enter temperature in Celsius: 50\n",
      "Temperature in Fahrenheit: 122.0\n"
     ]
    }
   ],
   "source": [
    "#python program to convert celsius to fahrenheit \n",
    "\n",
    "T=float(input(\"Enter temperature in Celsius: \"))\n",
    "\n",
    "F=round((T * 9/5) + 32,2)\n",
    "\n",
    "print(\"Temperature in Fahrenheit:\",F)"
   ]
  },
  {
   "cell_type": "code",
   "execution_count": 9,
   "id": "6136f745",
   "metadata": {},
   "outputs": [
    {
     "name": "stdout",
     "output_type": "stream",
     "text": [
      "Enter distance in kilometers:200\n",
      "Distance in miles: 124.26\n"
     ]
    }
   ],
   "source": [
    "#python program to convert kilometers to miles\n",
    "\n",
    "k=float(input(\"Enter distance in kilometers:\")) \n",
    "\n",
    "M= round(k* 0.6213,2)\n",
    "\n",
    "print(\"Distance in miles:\",M)"
   ]
  },
  {
   "cell_type": "code",
   "execution_count": null,
   "id": "76bb05bc",
   "metadata": {},
   "outputs": [],
   "source": []
  }
 ],
 "metadata": {
  "kernelspec": {
   "display_name": "Python 3 (ipykernel)",
   "language": "python",
   "name": "python3"
  },
  "language_info": {
   "codemirror_mode": {
    "name": "ipython",
    "version": 3
   },
   "file_extension": ".py",
   "mimetype": "text/x-python",
   "name": "python",
   "nbconvert_exporter": "python",
   "pygments_lexer": "ipython3",
   "version": "3.11.5"
  }
 },
 "nbformat": 4,
 "nbformat_minor": 5
}
