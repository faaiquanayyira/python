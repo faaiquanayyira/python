{
 "cells": [
  {
   "cell_type": "code",
   "execution_count": 11,
   "id": "874ac49e",
   "metadata": {},
   "outputs": [
    {
     "name": "stdout",
     "output_type": "stream",
     "text": [
      "Enter any color names (set1):red blue black\n",
      "Enter any color names (set2):white red blue\n",
      "set1 is: {'blue', 'red', 'black'}\n",
      "set2 is: {'blue', 'red', 'white'}\n",
      "colors not in set2 is: {'black'}\n"
     ]
    }
   ],
   "source": [
    "# write a python program to printout all colors set 1 not contained in color set2\n",
    "\n",
    "set1=set(input(\"Enter any color names (set1):\").split())\n",
    "set2=set(input(\"Enter any color names (set2):\").split())\n",
    "\n",
    "difference_set= set1.difference(set2)\n",
    "print(\"set1 is:\",set1)\n",
    "print(\"set2 is:\",set2)\n",
    "print(\"colors not in set2 is:\",difference_set)"
   ]
  },
  {
   "cell_type": "code",
   "execution_count": 9,
   "id": "3b9d77cc",
   "metadata": {},
   "outputs": [
    {
     "name": "stdout",
     "output_type": "stream",
     "text": [
      "Enter any color names (set1):blue black red\n",
      "Enter any color names (set2):white red black\n",
      "set1 is: {'blue', 'red', 'black'}\n",
      "set2 is: {'red', 'black', 'white'}\n",
      "merged set is: {'blue', 'red', 'white', 'black'}\n"
     ]
    }
   ],
   "source": [
    "#write a python program to printout all colors from color set 1 and set2\n",
    "\n",
    "set1=set(input(\"Enter any color names (set1):\").split())\n",
    "set2=set(input(\"Enter any color names (set2):\").split())\n",
    "\n",
    "intersection_set = set1.union(set2)\n",
    "print(\"set1 is:\",set1)\n",
    "print(\"set2 is:\",set2)\n",
    "print(\"merged set is:\",intersection_set)"
   ]
  },
  {
   "cell_type": "code",
   "execution_count": null,
   "id": "41db8d29",
   "metadata": {},
   "outputs": [],
   "source": []
  }
 ],
 "metadata": {
  "kernelspec": {
   "display_name": "Python 3 (ipykernel)",
   "language": "python",
   "name": "python3"
  },
  "language_info": {
   "codemirror_mode": {
    "name": "ipython",
    "version": 3
   },
   "file_extension": ".py",
   "mimetype": "text/x-python",
   "name": "python",
   "nbconvert_exporter": "python",
   "pygments_lexer": "ipython3",
   "version": "3.11.5"
  }
 },
 "nbformat": 4,
 "nbformat_minor": 5
}
