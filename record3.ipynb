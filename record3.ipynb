{
 "cells": [
  {
   "cell_type": "code",
   "execution_count": 2,
   "id": "aedea63d",
   "metadata": {},
   "outputs": [
    {
     "name": "stdout",
     "output_type": "stream",
     "text": [
      "Enter the first number:5\n",
      "Enter the second number:9\n",
      "Enter the third number:2\n",
      "\n",
      "The biggest number is: 9.0\n"
     ]
    }
   ],
   "source": [
    "# write a program to find the biggest of 3 numbers(use max())\n",
    "\n",
    "num1=float(input(\"Enter the first number:\"))\n",
    "num2=float(input(\"Enter the second number:\"))\n",
    "num3=float(input(\"Enter the third number:\"))\n",
    "\n",
    "biggest=max(num1,num2,num3)\n",
    "\n",
    "print(\"\\nThe biggest number is:\",biggest)"
   ]
  },
  {
   "cell_type": "code",
   "execution_count": null,
   "id": "70fb3884",
   "metadata": {},
   "outputs": [],
   "source": []
  }
 ],
 "metadata": {
  "kernelspec": {
   "display_name": "Python 3 (ipykernel)",
   "language": "python",
   "name": "python3"
  },
  "language_info": {
   "codemirror_mode": {
    "name": "ipython",
    "version": 3
   },
   "file_extension": ".py",
   "mimetype": "text/x-python",
   "name": "python",
   "nbconvert_exporter": "python",
   "pygments_lexer": "ipython3",
   "version": "3.11.5"
  }
 },
 "nbformat": 4,
 "nbformat_minor": 5
}
