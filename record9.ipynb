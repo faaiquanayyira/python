{
 "cells": [
  {
   "cell_type": "markdown",
   "id": "805b3d1a",
   "metadata": {},
   "source": []
  },
  {
   "cell_type": "code",
   "execution_count": 30,
   "id": "170b56ec",
   "metadata": {},
   "outputs": [
    {
     "name": "stdout",
     "output_type": "stream",
     "text": [
      "Enter the roll number for 3 students [using space]:9 3 6\n",
      "Enter 3 students names [using space]:faaiqua nayyira Sahva\n",
      "Students with Roll_numbers: {'9': 'faaiqua', '3': 'nayyira', '6': 'Sahva'}\n",
      "Enter the roll number for 2 students:2 1 \n",
      "Enter 2 students names:Anu Sinu\n",
      "Students with Roll_numbers: {9: 'Anu', 3: 'Sinu'}\n",
      "Merged dictionary: {'9': 'faaiqua', '3': 'nayyira', '6': 'Sahva', 9: 'Anu', 3: 'Sinu'}\n"
     ]
    }
   ],
   "source": [
    "#accepts 2 dictionaries(dict1 contains 3 students names and roll numbers, and dic2 contains 2 students names and roll numbers). merge 2 dictionaries and display it[use update]\n",
    "\n",
    "Rno=input(\"Enter the roll number for 3 students [using space]:\").split()\n",
    "Rno1=list(map(int,Rno))\n",
    "names=input(\"Enter 3 students names [using space]:\").split()\n",
    "\n",
    "students=dict(zip(Rno,names))\n",
    "print(\"Students with Roll_numbers:\",students)\n",
    "\n",
    "Rno2=input(\"Enter the roll number for 2 students:\").split()\n",
    "Rno3=list(map(int,Rno))\n",
    "names1=input(\"Enter 2 students names:\").split()\n",
    "\n",
    "students1=dict(zip(Rno3,names1))\n",
    "print(\"Students with Roll_numbers:\",students1)\n",
    "\n",
    "students.update(students1)\n",
    "print(\"Merged dictionary:\",students)"
   ]
  },
  {
   "cell_type": "code",
   "execution_count": 31,
   "id": "88abb202",
   "metadata": {},
   "outputs": [
    {
     "name": "stdout",
     "output_type": "stream",
     "text": [
      "Enter 5 students names:faaiqua nayyira Sinu Anu Dhrishya\n",
      "Enter the roll number of that students:9 1 5 3 8\n",
      "students with roll number: {'9': 'faaiqua', '1': 'nayyira', '5': 'Sinu', '3': 'Anu', '8': 'Dhrishya'}\n",
      "Dictionarie with decenting order through Keys {'9': 'Nayyira', '7': 'Faaiqua', '3': 'Dhrishya', '2': 'Anu'}\n",
      "Dictionarie with ascenting order through keys {'1': 'nayyira', '3': 'Anu', '5': 'Sinu', '8': 'Dhrishya', '9': 'faaiqua'}\n"
     ]
    }
   ],
   "source": [
    "##accepts 5 students names and roll numbers and map these into a dict(rool as key , name as value). sort the dic in ascending and descenting order of their roll number\n",
    "\n",
    "\n",
    "names=input(\"Enter 5 students names:\").split()\n",
    "Rno=input(\"Enter the roll number of that students:\").split()\n",
    "Rno1=list(map(int,Rno))\n",
    "\n",
    "students=dict(zip(Rno,names))\n",
    "asc_Keys=dict(sorted(students.items()))\n",
    "dsc_Keys=dict(sorted(students.items(),reverse=True))\n",
    "\n",
    "print(\"students with roll number:\",students)\n",
    "print(\"Dictionarie with decenting order through Keys\",dsc_values)\n",
    "print(\"Dictionarie with ascenting order through keys\",asc_Keys)"
   ]
  },
  {
   "cell_type": "code",
   "execution_count": null,
   "id": "4d58cf10",
   "metadata": {},
   "outputs": [],
   "source": []
  }
 ],
 "metadata": {
  "kernelspec": {
   "display_name": "Python 3 (ipykernel)",
   "language": "python",
   "name": "python3"
  },
  "language_info": {
   "codemirror_mode": {
    "name": "ipython",
    "version": 3
   },
   "file_extension": ".py",
   "mimetype": "text/x-python",
   "name": "python",
   "nbconvert_exporter": "python",
   "pygments_lexer": "ipython3",
   "version": "3.11.5"
  }
 },
 "nbformat": 4,
 "nbformat_minor": 5
}
