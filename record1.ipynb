{
 "cells": [
  {
   "cell_type": "code",
   "execution_count": 26,
   "id": "5690ee76",
   "metadata": {},
   "outputs": [
    {
     "name": "stdout",
     "output_type": "stream",
     "text": [
      "Enter the value :5\n",
      "5 + 55 + 555 = 615\n"
     ]
    }
   ],
   "source": [
    "#write a python program that accepts an integer (n) and computes the value of n+nn+nnn\n",
    "\n",
    "value=int(input(\"Enter the value :\"))\n",
    "x=value\n",
    "y=10*value+value\n",
    "z=100*value+y\n",
    "result=x+y+z\n",
    "print(x, \"+\",y ,\"+\",z,\"=\",result)"
   ]
  },
  {
   "cell_type": "code",
   "execution_count": 34,
   "id": "575ed5db",
   "metadata": {},
   "outputs": [
    {
     "name": "stdout",
     "output_type": "stream",
     "text": [
      "enter the radius of the circle:2\n",
      "The area is: 12.57\n"
     ]
    }
   ],
   "source": [
    "#input the radius of a circle and compute the area(import math)\n",
    "\n",
    "import math\n",
    "\n",
    "r=int(input(\"enter the radius of the circle:\"))\n",
    "Area=math.pi*r*r\n",
    "result=round(Area,2)\n",
    "print(\"The area is:\",result)"
   ]
  },
  {
   "cell_type": "code",
   "execution_count": null,
   "id": "37a7781b",
   "metadata": {},
   "outputs": [],
   "source": []
  }
 ],
 "metadata": {
  "kernelspec": {
   "display_name": "Python 3 (ipykernel)",
   "language": "python",
   "name": "python3"
  },
  "language_info": {
   "codemirror_mode": {
    "name": "ipython",
    "version": 3
   },
   "file_extension": ".py",
   "mimetype": "text/x-python",
   "name": "python",
   "nbconvert_exporter": "python",
   "pygments_lexer": "ipython3",
   "version": "3.11.5"
  }
 },
 "nbformat": 4,
 "nbformat_minor": 5
}
