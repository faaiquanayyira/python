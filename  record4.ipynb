{
 "cells": [
  {
   "cell_type": "code",
   "execution_count": 2,
   "id": "110af3db",
   "metadata": {},
   "outputs": [
    {
     "name": "stdout",
     "output_type": "stream",
     "text": [
      "Enter a string:python\n",
      "The result is: nythop\n"
     ]
    }
   ],
   "source": [
    "#write a python program to change a given string to a new string where the first and last chars have been exchanged\n",
    "\n",
    "text=input(\"Enter a string:\")\n",
    "result=(text[-1]+text[1:-1]+text[0])\n",
    "print(\"The result is:\",result)"
   ]
  },
  {
   "cell_type": "code",
   "execution_count": 6,
   "id": "58625ca1",
   "metadata": {},
   "outputs": [
    {
     "name": "stdout",
     "output_type": "stream",
     "text": [
      "Enter a string:faaiqua\n",
      "The reult is: faua\n"
     ]
    }
   ],
   "source": [
    "#get a string ,ade of the first 2 and last 2 chars from a given string\n",
    "\n",
    "text=input(\"Enter a string:\")\n",
    "result=(text[:2]+text[-2:])\n",
    "print(\"The reult is:\",result)"
   ]
  },
  {
   "cell_type": "code",
   "execution_count": 7,
   "id": "7866653a",
   "metadata": {},
   "outputs": [
    {
     "name": "stdout",
     "output_type": "stream",
     "text": [
      "Enter first string:faaiqua\n",
      "Enter a second string:naayira\n",
      "result is= naaiqua faayira\n"
     ]
    }
   ],
   "source": [
    "#get a single string from 2 given strings, separated by a space and swap the first 2 characters of each string\n",
    "\n",
    "text1=input(\"Enter first string:\")\n",
    "text2=input(\"Enter a second string:\")\n",
    "result1=text2[:2]+text1[2:]\n",
    "result2=text1[:2]+text2[2:]\n",
    "\n",
    "result=result1+ \" \" +result2\n",
    "\n",
    "print(\"result is=\" ,result)"
   ]
  },
  {
   "cell_type": "code",
   "execution_count": 9,
   "id": "b89ad2f0",
   "metadata": {},
   "outputs": [
    {
     "name": "stdout",
     "output_type": "stream",
     "text": [
      "Enter a string:onion\n",
      "The result is: oni$n\n"
     ]
    }
   ],
   "source": [
    "#get a string from a given string where all occurences of its first char have been changed to $,expect the first char itself(use replace())\n",
    "\n",
    "text=input(\"Enter a string:\")\n",
    "first_char=text[0]\n",
    "result=first_char+text[1:].replace(first_char,\"$\")\n",
    "\n",
    "print(\"The result is:\",result)"
   ]
  },
  {
   "cell_type": "code",
   "execution_count": null,
   "id": "0e0bae47",
   "metadata": {},
   "outputs": [],
   "source": []
  }
 ],
 "metadata": {
  "kernelspec": {
   "display_name": "Python 3 (ipykernel)",
   "language": "python",
   "name": "python3"
  },
  "language_info": {
   "codemirror_mode": {
    "name": "ipython",
    "version": 3
   },
   "file_extension": ".py",
   "mimetype": "text/x-python",
   "name": "python",
   "nbconvert_exporter": "python",
   "pygments_lexer": "ipython3",
   "version": "3.11.5"
  }
 },
 "nbformat": 4,
 "nbformat_minor": 5
}
