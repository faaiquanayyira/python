{
 "cells": [
  {
   "cell_type": "code",
   "execution_count": 19,
   "id": "e4417c4a",
   "metadata": {},
   "outputs": [
    {
     "name": "stdout",
     "output_type": "stream",
     "text": [
      "Enter intiger numbers separated by commas:1,2,3,4\n",
      "The positive numbers is: [1, 2, 3, 4]\n",
      " \n",
      "square of n numbers is: [1, 4, 9, 16]\n",
      " \n",
      "Enter a word:hello\n",
      "The vowels are: ['e', 'o']\n",
      " \n",
      "The ordinal of the word  hello  is: [104, 101, 108, 108, 111]\n"
     ]
    }
   ],
   "source": [
    "'''list comprehensions: \n",
    "(a)generate positive list of numbers from a given list of intigers \n",
    "(b) square of n numbers \n",
    "(c) from a list of vowels selected from a given word \n",
    "(d) list ordinal value of each element of a word (hint use ord() to get ordinal values)'''\n",
    "\n",
    "#a\n",
    "num=input(\"Enter intiger numbers separated by commas:\").split(\",\")\n",
    "\n",
    "nums=list(map(int,num))\n",
    "positive_list = [x for x in nums if x > 0]\n",
    "print(\"The positive numbers is:\",positive_list)\n",
    "\n",
    "print(\" \")\n",
    "\n",
    "#b\n",
    "square=[x**2 for x in nums ]\n",
    "print(\"square of n numbers is:\",square)\n",
    "\n",
    "print(\" \")\n",
    "\n",
    "#c\n",
    "word=input(\"Enter a word:\")\n",
    "vowels=[x.lower() for x in word if x in \"a,e,i,o,u\"]\n",
    "print(\"The vowels are:\",vowels)\n",
    " \n",
    "print(\" \")\n",
    "    \n",
    "#d\n",
    "ordinal = [ord(x) for x in word]\n",
    "print(\"The ordinal of the word \",word ,\" is:\",ordinal)"
   ]
  },
  {
   "cell_type": "code",
   "execution_count": null,
   "id": "9d3cedd0",
   "metadata": {},
   "outputs": [],
   "source": []
  },
  {
   "cell_type": "code",
   "execution_count": null,
   "id": "625a5411",
   "metadata": {},
   "outputs": [],
   "source": []
  }
 ],
 "metadata": {
  "kernelspec": {
   "display_name": "Python 3 (ipykernel)",
   "language": "python",
   "name": "python3"
  },
  "language_info": {
   "codemirror_mode": {
    "name": "ipython",
    "version": 3
   },
   "file_extension": ".py",
   "mimetype": "text/x-python",
   "name": "python",
   "nbconvert_exporter": "python",
   "pygments_lexer": "ipython3",
   "version": "3.11.5"
  }
 },
 "nbformat": 4,
 "nbformat_minor": 5
}
