{
 "cells": [
  {
   "cell_type": "code",
   "execution_count": 1,
   "id": "185e2a7d",
   "metadata": {},
   "outputs": [
    {
     "name": "stdout",
     "output_type": "stream",
     "text": [
      "even number up to 25 is: [2, 4, 6, 8, 10, 12, 14, 16, 18, 20, 22, 24]\n",
      "Sum is: 156\n"
     ]
    }
   ],
   "source": [
    "#print all even numbers from 1 to 25 and calculate sum(using range()directly without a loop or condition)\n",
    "\n",
    "r=range(2,25,2)\n",
    "print(\"even number up to 25 is:\",list(r))\n",
    "total=sum(list(r))\n",
    "print(\"Sum is:\",total)"
   ]
  },
  {
   "cell_type": "code",
   "execution_count": 7,
   "id": "3ca9d125",
   "metadata": {},
   "outputs": [
    {
     "name": "stdout",
     "output_type": "stream",
     "text": [
      "Enter the range up to which you want the sum: 5\n",
      "Numbers in reverse order: [5, 4, 3, 2]\n",
      "The sum is: 14\n"
     ]
    }
   ],
   "source": [
    "#print all in reverse order and calculate their sum.\n",
    "\n",
    "num = int(input(\"Enter the range up to which you want the sum: \"))\n",
    "r = range(num, 1, -1)  \n",
    "print(\"Numbers in reverse order:\", list(r)) \n",
    "total = sum(r)\n",
    "print(\"The sum is:\", total)\n"
   ]
  },
  {
   "cell_type": "code",
   "execution_count": null,
   "id": "e8e29dc4",
   "metadata": {},
   "outputs": [],
   "source": []
  }
 ],
 "metadata": {
  "kernelspec": {
   "display_name": "Python 3 (ipykernel)",
   "language": "python",
   "name": "python3"
  },
  "language_info": {
   "codemirror_mode": {
    "name": "ipython",
    "version": 3
   },
   "file_extension": ".py",
   "mimetype": "text/x-python",
   "name": "python",
   "nbconvert_exporter": "python",
   "pygments_lexer": "ipython3",
   "version": "3.11.5"
  }
 },
 "nbformat": 4,
 "nbformat_minor": 5
}
