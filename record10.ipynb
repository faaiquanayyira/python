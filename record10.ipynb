{
 "cells": [
  {
   "cell_type": "code",
   "execution_count": 19,
   "id": "f3a30747",
   "metadata": {},
   "outputs": [
    {
     "name": "stdout",
     "output_type": "stream",
     "text": [
      "Enter the values for list one separatad by commas:1,3,5\n",
      " \n",
      "Enter the values for list one separatad by commas:2,4,6\n",
      " \n",
      "list1 is: [1, 3, 5]\n",
      "list2 is [2, 4, 6]\n",
      " \n",
      "The length of the lists sre same\n",
      " \n",
      "The sum of the lists is not same\n",
      " \n",
      "Both lists have no same values\n"
     ]
    }
   ],
   "source": [
    "#1.Enter 2 lists of integers. Check (a) Whether list are of same length (b) whether list sums\n",
    "#to same value (c) whether any value occur in both.\n",
    "\n",
    "l1=input(\"Enter the values for list one separatad by commas:\").split(',')\n",
    "list1=list(map(int,l1))\n",
    "print(\" \")\n",
    "\n",
    "\n",
    "l2=input(\"Enter the values for list one separatad by commas:\").split(\",\")\n",
    "list2=list(map(int,l2))\n",
    "print(\" \")\n",
    "\n",
    "print(\"list1 is:\",list1)\n",
    "print(\"list2 is\",list2)\n",
    "\n",
    "print(\" \")\n",
    "#a\n",
    "if len(list1)== len(list2):\n",
    "    print(\"The length of the lists sre same\")\n",
    "else:\n",
    "    print(\"The length of the lists are not same\")\n",
    "    \n",
    "#b\n",
    "value=0\n",
    "\n",
    "sum=0\n",
    "print(\" \")\n",
    "for num in list1:\n",
    "    sum=sum+num\n",
    "\n",
    "sum2=0\n",
    "for num in list2:\n",
    "    sum2=sum2+num\n",
    "\n",
    "if sum==sum2:\n",
    "    print(\"The sum of the lists is same\")\n",
    "else:\n",
    "    print(\"The sum of the lists is not same\")\n",
    "       \n",
    "#c\n",
    "print(\" \")\n",
    "if set(list1) & set(list2):\n",
    "    print(\"Both lists have a same value\")\n",
    "else:\n",
    "    print(\"Both lists have no same values\")"
   ]
  },
  {
   "cell_type": "code",
   "execution_count": 18,
   "id": "8ba0d619",
   "metadata": {},
   "outputs": [
    {
     "name": "stdout",
     "output_type": "stream",
     "text": [
      "Enter a string:win\n",
      " \n",
      "The word become: wining\n"
     ]
    }
   ],
   "source": [
    "#2. Add ‘ing’ at the end of a given string. If it already ends with ‘ing’, then add ‘ly’\n",
    "\n",
    "word=input(\"Enter a string:\")\n",
    "print(\" \")\n",
    "if word.endswith(\"ing\"):\n",
    "    word=word+\"ly\"\n",
    "    print(\"The word is become:\",word)\n",
    "\n",
    "else:\n",
    "    word=word+\"ing\"\n",
    "    print(\"The word become:\",word)\n",
    "    "
   ]
  },
  {
   "cell_type": "code",
   "execution_count": null,
   "id": "319bf7b3",
   "metadata": {},
   "outputs": [],
   "source": []
  },
  {
   "cell_type": "code",
   "execution_count": null,
   "id": "50c73df4",
   "metadata": {},
   "outputs": [],
   "source": []
  }
 ],
 "metadata": {
  "kernelspec": {
   "display_name": "Python 3 (ipykernel)",
   "language": "python",
   "name": "python3"
  },
  "language_info": {
   "codemirror_mode": {
    "name": "ipython",
    "version": 3
   },
   "file_extension": ".py",
   "mimetype": "text/x-python",
   "name": "python",
   "nbconvert_exporter": "python",
   "pygments_lexer": "ipython3",
   "version": "3.11.5"
  }
 },
 "nbformat": 4,
 "nbformat_minor": 5
}
