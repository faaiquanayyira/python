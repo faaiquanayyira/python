{
 "cells": [
  {
   "cell_type": "code",
   "execution_count": 12,
   "id": "a023bf0e",
   "metadata": {},
   "outputs": [
    {
     "name": "stdout",
     "output_type": "stream",
     "text": [
      "Enter the tuple values separated by commas: 1,2,3,4,5,6,7\n",
      "given tuple is: (1, 2, 3, 4, 5, 6, 7)\n",
      "3rd element: 3\n",
      "3rd element from the end: 5\n"
     ]
    }
   ],
   "source": [
    "#get 3rd element and 3rd element from last of a tuple\n",
    "\n",
    "t1= input(\"Enter the tuple values separated by commas: \")\n",
    "t2=tuple(map(int,t1.split(',')))\n",
    "third_element = t2[2]\n",
    "third_from_last = t2[-3]\n",
    "\n",
    "print(\"given tuple is:\",t2)\n",
    "print(\"3rd element:\", third_element)\n",
    "print(\"3rd element from the end:\", third_from_last)"
   ]
  },
  {
   "cell_type": "code",
   "execution_count": 5,
   "id": "8700c668",
   "metadata": {},
   "outputs": [
    {
     "name": "stdout",
     "output_type": "stream",
     "text": [
      "Enter numbers separated by commas: 1,3,7,5,9,4\n",
      "Tuple: (1, 3, 7, 5, 9, 4)\n",
      "Sum of all items: 29\n"
     ]
    }
   ],
   "source": [
    "#accepts a sequence of comma-separated numbers from user and generate a tuple with those numbers and find sum of all items in tuple\n",
    "\n",
    "user_input = input(\"Enter numbers separated by commas: \") \n",
    "number_s1 = user_input.split(',')\n",
    "number_l1 = [int(num) for num in number_s1]\n",
    "number_t1 = tuple(number_l1)\n",
    "total = sum(number_t1)\n",
    "\n",
    "print(\"Tuple:\", number_t1)\n",
    "print(\"Sum of all items:\", total)\n"
   ]
  },
  {
   "cell_type": "code",
   "execution_count": null,
   "id": "88378d0f",
   "metadata": {},
   "outputs": [],
   "source": []
  }
 ],
 "metadata": {
  "kernelspec": {
   "display_name": "Python 3 (ipykernel)",
   "language": "python",
   "name": "python3"
  },
  "language_info": {
   "codemirror_mode": {
    "name": "ipython",
    "version": 3
   },
   "file_extension": ".py",
   "mimetype": "text/x-python",
   "name": "python",
   "nbconvert_exporter": "python",
   "pygments_lexer": "ipython3",
   "version": "3.11.5"
  }
 },
 "nbformat": 4,
 "nbformat_minor": 5
}
