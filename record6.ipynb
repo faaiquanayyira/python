{
 "cells": [
  {
   "cell_type": "code",
   "execution_count": 11,
   "id": "b83dd551",
   "metadata": {},
   "outputs": [
    {
     "name": "stdout",
     "output_type": "stream",
     "text": [
      "Enter the tuple values separated by commas: 1,2,3,4,5,6,7\n"
     ]
    },
    {
     "ename": "NameError",
     "evalue": "name 't' is not defined",
     "output_type": "error",
     "traceback": [
      "\u001b[0;31m---------------------------------------------------------------------------\u001b[0m",
      "\u001b[0;31mNameError\u001b[0m                                 Traceback (most recent call last)",
      "Cell \u001b[0;32mIn[11], line 4\u001b[0m\n\u001b[1;32m      1\u001b[0m \u001b[38;5;66;03m#get 3rd element and 3rd element from last of a tuple\u001b[39;00m\n\u001b[1;32m      3\u001b[0m t1\u001b[38;5;241m=\u001b[39m \u001b[38;5;28minput\u001b[39m(\u001b[38;5;124m\"\u001b[39m\u001b[38;5;124mEnter the tuple values separated by commas: \u001b[39m\u001b[38;5;124m\"\u001b[39m)\n\u001b[0;32m----> 4\u001b[0m t2\u001b[38;5;241m=\u001b[39m\u001b[38;5;28mtuple\u001b[39m(\u001b[38;5;28mmap\u001b[39m(\u001b[38;5;28mint\u001b[39m,t\u001b[38;5;241m.\u001b[39msplit(\u001b[38;5;124m'\u001b[39m\u001b[38;5;124m,\u001b[39m\u001b[38;5;124m'\u001b[39m)))\n\u001b[1;32m      5\u001b[0m third_element \u001b[38;5;241m=\u001b[39m t2[\u001b[38;5;241m2\u001b[39m]\n\u001b[1;32m      6\u001b[0m third_from_last \u001b[38;5;241m=\u001b[39m t2[\u001b[38;5;241m-\u001b[39m\u001b[38;5;241m3\u001b[39m]\n",
      "\u001b[0;31mNameError\u001b[0m: name 't' is not defined"
     ]
    }
   ],
   "source": [
    "#get 3rd element and 3rd element from last of a tuple\n",
    "\n",
    "t1= input(\"Enter the tuple values separated by commas: \")\n",
    "t2=tuple(map(int,t.split(',')))\n",
    "third_element = t2[2]\n",
    "third_from_last = t2[-3]\n",
    "\n",
    "print(\"given tuple is:\",t2)\n",
    "print(\"3rd element:\", third_element)\n",
    "print(\"3rd element from the end:\", third_from_last)"
   ]
  },
  {
   "cell_type": "code",
   "execution_count": 5,
   "id": "7577b7bd",
   "metadata": {},
   "outputs": [
    {
     "name": "stdout",
     "output_type": "stream",
     "text": [
      "Enter numbers separated by commas: 1,3,7,5,9,4\n",
      "Tuple: (1, 3, 7, 5, 9, 4)\n",
      "Sum of all items: 29\n"
     ]
    }
   ],
   "source": [
    "#accepts a sequence of comma-separated numbers from user and generate a tuple with those numbers and find sum of all items in tuple\n",
    "\n",
    "user_input = input(\"Enter numbers separated by commas: \") \n",
    "number_s1 = user_input.split(',')\n",
    "number_l1 = [int(num) for num in number_s1]\n",
    "number_t1 = tuple(number_l1)\n",
    "total = sum(number_t1)\n",
    "\n",
    "print(\"Tuple:\", number_t1)\n",
    "print(\"Sum of all items:\", total)\n"
   ]
  },
  {
   "cell_type": "code",
   "execution_count": null,
   "id": "51023279",
   "metadata": {},
   "outputs": [],
   "source": []
  }
 ],
 "metadata": {
  "kernelspec": {
   "display_name": "Python 3 (ipykernel)",
   "language": "python",
   "name": "python3"
  },
  "language_info": {
   "codemirror_mode": {
    "name": "ipython",
    "version": 3
   },
   "file_extension": ".py",
   "mimetype": "text/x-python",
   "name": "python",
   "nbconvert_exporter": "python",
   "pygments_lexer": "ipython3",
   "version": "3.11.5"
  }
 },
 "nbformat": 4,
 "nbformat_minor": 5
}
