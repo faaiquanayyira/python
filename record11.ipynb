{
 "cells": [
  {
   "cell_type": "code",
   "execution_count": 49,
   "id": "46d41629",
   "metadata": {},
   "outputs": [
    {
     "name": "stdout",
     "output_type": "stream",
     "text": [
      "Enter the text which you want:my name is faaiqua my sister name is faariha\n",
      "ocuurence os is : 2\n",
      "ocuurence os faaiqua : 1\n",
      "ocuurence os my : 2\n",
      "ocuurence os faariha : 1\n",
      "ocuurence os name : 2\n",
      "ocuurence os sister : 1\n"
     ]
    }
   ],
   "source": [
    "#count the occurrences of each word in a line of text\n",
    "\n",
    "text=input(\"Enter the text which you want:\")\n",
    "words=text.split()\n",
    "word_1=set(words)\n",
    "for word in word_1:\n",
    "    count=words.count(word)\n",
    "    print(\"ocuurence os\",word,\":\",count)"
   ]
  },
  {
   "cell_type": "code",
   "execution_count": 50,
   "id": "e417aa82",
   "metadata": {},
   "outputs": [
    {
     "name": "stdout",
     "output_type": "stream",
     "text": [
      "Enter the integer numbers separated by commas: 1,2,3,404,2,202\n",
      "if the value is >100 the put over their: [1, 2, 3, 'over', 2, 'over']\n"
     ]
    }
   ],
   "source": [
    "#prompt the user for a list of integers. for all values greater than 100 store 'over' instead\n",
    "\n",
    "num = input(\"Enter the integer numbers separated by commas: \").split(\",\")\n",
    "num1 = map(int, num)\n",
    "\n",
    "result = []\n",
    "for n in num1:\n",
    "    if n > 100:\n",
    "        result.append(\"over\")\n",
    "    else:\n",
    "        result.append(n)\n",
    "\n",
    "print(\"if the value is >100 the put over their:\",result)\n"
   ]
  },
  {
   "cell_type": "code",
   "execution_count": 29,
   "id": "82b5b66f",
   "metadata": {},
   "outputs": [
    {
     "name": "stdout",
     "output_type": "stream",
     "text": [
      "Enter the first names separated by commas:faaiqua,nayyira,sinu\n",
      "Total number of 'a' letters in all names: 5\n"
     ]
    }
   ],
   "source": [
    "#store a list of first names. count the occurrences os 'a' within the list\n",
    "\n",
    "first_name = input(\"Enter the first names separated by commas:\").split(\",\")\n",
    "count = 0\n",
    "\n",
    "for name in first_name:\n",
    "    names=name.lower()\n",
    "    count =count+ names.count(\"a\")  \n",
    "        \n",
    "print(\"Total number of 'a' letters in all names:\", count)\n"
   ]
  },
  {
   "cell_type": "code",
   "execution_count": 35,
   "id": "3d9f9750",
   "metadata": {},
   "outputs": [
    {
     "name": "stdout",
     "output_type": "stream",
     "text": [
      "Enter first number:24\n",
      "Enter the second number:4\n",
      "GCD is: 4\n"
     ]
    }
   ],
   "source": [
    "#fint gcd of 2 numbers\n",
    "num1=int(input(\"Enter first number:\"))\n",
    "num2=int(input(\"Enter the second number:\"))\n",
    "\n",
    "while num2 != 0:\n",
    "    num1, num2 = num2, num1 % num2\n",
    "\n",
    "print(\"GCD is:\", num1)"
   ]
  },
  {
   "cell_type": "code",
   "execution_count": 51,
   "id": "debca84f",
   "metadata": {},
   "outputs": [
    {
     "name": "stdout",
     "output_type": "stream",
     "text": [
      "Enter the numbers separated by comma: 1,2,3,4,5,6,7\n",
      "The new list removed even numbers: [1, 3, 5, 7]\n"
     ]
    }
   ],
   "source": [
    "#from a list of intigers,create a list removing even numbers\n",
    "\n",
    "num = input(\"Enter the numbers separated by comma: \").split(\",\")\n",
    "num1 = list(map(int, num))\n",
    "\n",
    "odd_numbers = []\n",
    "for n in num1:\n",
    "    if n % 2 != 0:\n",
    "        odd_numbers.append(n)\n",
    "\n",
    "print(\"The new list removed even numbers:\", odd_numbers)\n"
   ]
  },
  {
   "cell_type": "code",
   "execution_count": 48,
   "id": "ed8e346c",
   "metadata": {},
   "outputs": [
    {
     "name": "stdout",
     "output_type": "stream",
     "text": [
      "Enter the non negative number:5\n",
      "The factorial of  5  is: 120\n"
     ]
    }
   ],
   "source": [
    "#program to find the factorial of a number\n",
    "\n",
    "num=int(input(\"Enter the non negative number:\"))\n",
    "factorial=1\n",
    "\n",
    "if num < 0:\n",
    "    print(\"the number is negative so factorial is not defind\")\n",
    "else:\n",
    "    for i in range(1, num + 1):\n",
    "        factorial =factorial* i\n",
    "        \n",
    "print(\"The factorial of \",num,\" is:\",factorial)"
   ]
  },
  {
   "cell_type": "code",
   "execution_count": 6,
   "id": "1b088c78",
   "metadata": {},
   "outputs": [
    {
     "name": "stdout",
     "output_type": "stream",
     "text": [
      "Enter a positive number:4\n",
      "Fibonacci series:\n",
      "0 1 1 2 "
     ]
    }
   ],
   "source": [
    "#generate fibonacci series of n terms\n",
    "\n",
    "num = int(input(\"Enter a positive number:\"))\n",
    "\n",
    "a, b = 0, 1\n",
    "count = 0\n",
    "\n",
    "if num <= 0:\n",
    "    print(\"Please enter a positive number.\")\n",
    "else:\n",
    "    print(\"Fibonacci series:\")\n",
    "    while count < num:\n",
    "        print(a, end=' ')\n",
    "        temp = a\n",
    "        a = b\n",
    "        b = temp + b\n",
    "        count = count + 1\n"
   ]
  },
  {
   "cell_type": "code",
   "execution_count": 4,
   "id": "dfaecf71",
   "metadata": {},
   "outputs": [
    {
     "name": "stdout",
     "output_type": "stream",
     "text": [
      "Enter the numbers seperated by comma:1,2,3,4,5\n",
      "sum of the items in the list is: 15\n"
     ]
    }
   ],
   "source": [
    "#find the sum of all items in a list\n",
    "\n",
    "num=input(\"Enter the numbers seperated by comma:\").split(\",\")\n",
    "nums=list(map(int,num))\n",
    "sum=0\n",
    "for i in nums:\n",
    "    sum=sum+i\n",
    "print(\"sum of the items in the list is:\",sum)"
   ]
  },
  {
   "cell_type": "code",
   "execution_count": 1,
   "id": "064167c6",
   "metadata": {},
   "outputs": [
    {
     "name": "stdout",
     "output_type": "stream",
     "text": [
      "Enter start of range (4-digit number): 2000\n",
      "Enter end of range (4-digit number): 8000\n",
      "Numbers found: [4624, 6084, 6400]\n"
     ]
    }
   ],
   "source": [
    "#generate a list of 4 digit numbers in a given range with all their digits even and the number is a perfect square\n",
    "\n",
    "import math\n",
    "\n",
    "start = int(input(\"Enter start of range (4-digit number): \"))\n",
    "end = int(input(\"Enter end of range (4-digit number): \"))\n",
    "\n",
    "result = []\n",
    "\n",
    "for num in range(start, end + 1):\n",
    "    if 1000 <= num <= 9999:\n",
    "        root = int(math.sqrt(num))\n",
    "        if root * root == num:\n",
    "            digits = str(num)\n",
    "            all_even = True\n",
    "            for d in digits:\n",
    "                if int(d) % 2 != 0:\n",
    "                    all_even = False\n",
    "                    break\n",
    "            if all_even:\n",
    "                result.append(num)\n",
    "\n",
    "print(\"Numbers found:\", result)\n"
   ]
  },
  {
   "cell_type": "code",
   "execution_count": 12,
   "id": "89be43ad",
   "metadata": {},
   "outputs": [
    {
     "name": "stdout",
     "output_type": "stream",
     "text": [
      "Enter a string:hi to all\n",
      " \n",
      "Character frequencies:\n",
      "The count of the h is: 1\n",
      "The count of the i is: 1\n",
      "The count of the t is: 1\n",
      "The count of the o is: 1\n",
      "The count of the a is: 1\n",
      "The count of the l is: 2\n"
     ]
    }
   ],
   "source": [
    "#count the number of characters(character frequency) in a string\n",
    "\n",
    "txt = input(\"Enter a string:\")\n",
    "txt_no_space = txt.replace(\" \", \"\")\n",
    "  \n",
    "print(\" \")    \n",
    "    \n",
    "frequency={}\n",
    "\n",
    "for char in txt_no_space:\n",
    "    if char in frequency:\n",
    "        frequency[char] =   frequency[char]+1\n",
    "    else:\n",
    "        frequency[char] = 1\n",
    "\n",
    "print(\"Character frequencies:\")\n",
    "\n",
    "for char, count in frequency.items():\n",
    "    print(\"The count of the \"+ char +\" is:\",count)"
   ]
  },
  {
   "cell_type": "code",
   "execution_count": 18,
   "id": "faf89f32",
   "metadata": {},
   "outputs": [
    {
     "name": "stdout",
     "output_type": "stream",
     "text": [
      "Enter the number of steps: 4\n",
      "1 \n",
      "2 4 \n",
      "3 6 9 \n",
      "4 8 12 16 \n"
     ]
    }
   ],
   "source": [
    "#display the given pyramid with step number accepted from user \n",
    "\n",
    "steps = int(input(\"Enter the number of steps: \"))\n",
    "\n",
    "for i in range(1, steps + 1):\n",
    "    for j in range(1, i + 1):\n",
    "        print(i * j, end=' ')\n",
    "    print()  \n"
   ]
  },
  {
   "cell_type": "code",
   "execution_count": null,
   "id": "fac08dcc",
   "metadata": {},
   "outputs": [],
   "source": []
  }
 ],
 "metadata": {
  "kernelspec": {
   "display_name": "Python 3 (ipykernel)",
   "language": "python",
   "name": "python3"
  },
  "language_info": {
   "codemirror_mode": {
    "name": "ipython",
    "version": 3
   },
   "file_extension": ".py",
   "mimetype": "text/x-python",
   "name": "python",
   "nbconvert_exporter": "python",
   "pygments_lexer": "ipython3",
   "version": "3.11.5"
  }
 },
 "nbformat": 4,
 "nbformat_minor": 5
}
