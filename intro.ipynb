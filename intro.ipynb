
{
 "cells": [
  {
   "cell_type": "code",
   "execution_count": 30,
   "id": "43f4f07a",
   "metadata": {},
   "outputs": [
    {
     "name": "stdout",
     "output_type": "stream",
     "text": [
      "Hello\n",
      "mca's\"student\"\n"
     ]
    }
   ],
   "source": [
    "print(\"Hello\")\n",
    "print(\"mca's\" '\"student\"')"
   ]
  },
  {
   "cell_type": "code",
   "execution_count": 49,
   "id": "39f6d684",
   "metadata": {},
   "outputs": [
    {
     "name": "stdout",
     "output_type": "stream",
     "text": [
      "good morning\n",
      "name = nayyira\n",
      "name = na\n",
      "name = a\n",
      "name = ayyira\n",
      "\n",
      "\n",
      "name = n\n",
      "name = nayyir\n",
      "name = ariyyan\n"
     ]
    }
   ],
   "source": [
    "print(\"good morning\")\n",
    "n=\"nayyira\"\n",
    "print(\"name =\",n)\n",
    "print(\"name =\",n[0:2])\n",
    "print(\"name =\",n[1:2])\n",
    "print(\"name =\",n[1:])\n",
    "print(\"\\n\")\n",
    "print(\"name =\",n[:1])\n",
    "print(\"name =\",n[:-1])\n",
    "print(\"name =\",n[::-1])"
   ]
  },
  {
   "cell_type": "code",
   "execution_count": 28,
   "id": "492573f5",
   "metadata": {},
   "outputs": [
    {
     "name": "stdout",
     "output_type": "stream",
     "text": [
      "Thangal's House \n",
      "Thurakkal\n",
      "Kondotty\n",
      "Malappuram\n"
     ]
    }
   ],
   "source": [
    "print(\"Thangal's House \\nThurakkal\\nKondotty\\nMalappuram\")\n"
   ]
  },
  {
   "cell_type": "code",
   "execution_count": 29,
   "id": "72b46f62",
   "metadata": {},
   "outputs": [
    {
     "name": "stdout",
     "output_type": "stream",
     "text": [
      "2\n",
      "8\n",
      "8\n"
     ]
    }
   ],
   "source": [
    "print(5//2)\n",
    "\n",
    "print(2*2*2)\n",
    "print(2**3)\n"
   ]
  },
  {
   "cell_type": "code",
   "execution_count": null,
   "id": "5b693f7d",
   "metadata": {},
   "outputs": [],
   "source": []
  }
 ],
 "metadata": {
  "kernelspec": {
   "display_name": "Python 3 (ipykernel)",
   "language": "python",
   "name": "python3"
  },
  "language_info": {
   "codemirror_mode": {
    "name": "ipython",
    "version": 3
   },
   "file_extension": ".py",
   "mimetype": "text/x-python",
   "name": "python",
   "nbconvert_exporter": "python",
   "pygments_lexer": "ipython3",
   "version": "3.11.5"
  }
 },
 "nbformat": 4,
 "nbformat_minor": 5
}
