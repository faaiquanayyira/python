{
 "cells": [
  {
   "cell_type": "code",
   "execution_count": 8,
   "id": "af59eba5",
   "metadata": {},
   "outputs": [
    {
     "name": "stdout",
     "output_type": "stream",
     "text": [
      "Enter length of first rectangle: 3\n",
      "Enter width of first rectangle: 4\n",
      "Enter length of second rectangle: 4\n",
      "Enter width of second rectangle: 5\n",
      "First rectangle is smaller than second rectangle: True\n"
     ]
    }
   ],
   "source": [
    "class Rectangle:\n",
    "    def __init__(self, l, w):\n",
    "        self.__l = l\n",
    "        self.__w = w\n",
    "        \n",
    "    def area(self):\n",
    "        return self.__l * self.__w\n",
    "    \n",
    "    def __lt__(self, other):\n",
    "        return self.area() < other.area()\n",
    "\n",
    "l1 = float(input(\"Enter length of first rectangle: \"))\n",
    "w1 = float(input(\"Enter width of first rectangle: \"))\n",
    "\n",
    "l2 = float(input(\"Enter length of second rectangle: \"))\n",
    "w2 = float(input(\"Enter width of second rectangle: \"))    \n",
    "    \n",
    "    \n",
    "r1 = Rectangle(l1, w1)\n",
    "r2 = Rectangle(l2, w2)\n",
    "\n",
    "print(\"First rectangle is smaller than second rectangle:\", r1 < r2)"
   ]
  },
  {
   "cell_type": "code",
   "execution_count": 16,
   "id": "f0756761",
   "metadata": {},
   "outputs": [
    {
     "name": "stdout",
     "output_type": "stream",
     "text": [
      "Enter hours for first time: 1\n",
      "Enter minutes for first time: 2\n",
      "Enter seconds for first time: 2\n",
      " \n",
      "Enter hours for second time: 2\n",
      "Enter minutes for second time: 3\n",
      "Enter seconds for second time: 3\n",
      " \n",
      "Add Time:\n",
      "Hour: 3   Minute: 5   Second: 5\n"
     ]
    }
   ],
   "source": [
    " class Time:\n",
    "    def __init__(self, h, m, s):\n",
    "        self.__h = h\n",
    "        self.__m = m\n",
    "        self.__s = s\n",
    "        \n",
    "    def __add__(self, other):\n",
    "        \n",
    "        s = self.__s + other.__s\n",
    "        m = self.__m + other.__m\n",
    "        h = self.__h + other.__h\n",
    "        \n",
    "       \n",
    "        if s >= 60:\n",
    "            s = s % 60\n",
    "            m = m + 1\n",
    "\n",
    "        if m > 60:\n",
    "            m = m % 60\n",
    "            h = h + 1\n",
    "\n",
    "        print(\" \")   \n",
    "        print(\"Add Time:\")\n",
    "        print(\"Hour:\",h,\" \",\"Minute:\",m,\" \",\"Second:\",s)\n",
    "    \n",
    "    \n",
    "\n",
    "\n",
    "h1 = int(input(\"Enter hours for first time: \"))\n",
    "m1 = int(input(\"Enter minutes for first time: \"))\n",
    "s1 = int(input(\"Enter seconds for first time: \"))\n",
    "print(\" \")\n",
    "h2 = int(input(\"Enter hours for second time: \"))\n",
    "m2 = int(input(\"Enter minutes for second time: \"))\n",
    "s2 = int(input(\"Enter seconds for second time: \"))\n",
    "\n",
    "t1 = Time(h1, m1, s1)\n",
    "t2 = Time(h2, m2, s2)\n",
    "t3 = t1 + t2"
   ]
  },
  {
   "cell_type": "code",
   "execution_count": null,
   "id": "013643ce",
   "metadata": {},
   "outputs": [],
   "source": []
  }
 ],
 "metadata": {
  "kernelspec": {
   "display_name": "Python 3 (ipykernel)",
   "language": "python",
   "name": "python3"
  },
  "language_info": {
   "codemirror_mode": {
    "name": "ipython",
    "version": 3
   },
   "file_extension": ".py",
   "mimetype": "text/x-python",
   "name": "python",
   "nbconvert_exporter": "python",
   "pygments_lexer": "ipython3",
   "version": "3.11.5"
  }
 },
 "nbformat": 4,
 "nbformat_minor": 5
}
